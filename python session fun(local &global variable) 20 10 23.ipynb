{
 "cells": [
  {
   "cell_type": "code",
   "execution_count": 1,
   "id": "f9d4ad72",
   "metadata": {},
   "outputs": [],
   "source": [
    "a=20\n",
    "\n",
    "def val():\n",
    "    a=30\n",
    "    print('the value of a:',a)"
   ]
  },
  {
   "cell_type": "code",
   "execution_count": 2,
   "id": "59b1b6c1",
   "metadata": {},
   "outputs": [
    {
     "name": "stdout",
     "output_type": "stream",
     "text": [
      "the value of a: 30\n"
     ]
    }
   ],
   "source": [
    "val()"
   ]
  },
  {
   "cell_type": "code",
   "execution_count": 3,
   "id": "31403f4b",
   "metadata": {},
   "outputs": [
    {
     "name": "stdout",
     "output_type": "stream",
     "text": [
      "20\n"
     ]
    }
   ],
   "source": [
    "print(a)\n",
    "\n",
    "#my main aim is i want to use a=30 valuewith out return\n",
    "#i want to use the latest value i.e 30 out side the function\n",
    "#local=====pan\n",
    "#you need to convert local variabe to global variable"
   ]
  },
  {
   "cell_type": "code",
   "execution_count": 4,
   "id": "c4c8046f",
   "metadata": {},
   "outputs": [
    {
     "ename": "SyntaxError",
     "evalue": "invalid syntax (1960351112.py, line 1)",
     "output_type": "error",
     "traceback": [
      "\u001b[1;36m  Cell \u001b[1;32mIn[4], line 1\u001b[1;36m\u001b[0m\n\u001b[1;33m    keyword: = global\u001b[0m\n\u001b[1;37m             ^\u001b[0m\n\u001b[1;31mSyntaxError\u001b[0m\u001b[1;31m:\u001b[0m invalid syntax\n"
     ]
    }
   ],
   "source": [
    "keyword: = global"
   ]
  },
  {
   "cell_type": "code",
   "execution_count": null,
   "id": "eef59129",
   "metadata": {},
   "outputs": [],
   "source": [
    "#local variable a = 30\n",
    "#global varible is a = 20"
   ]
  },
  {
   "cell_type": "code",
   "execution_count": 5,
   "id": "ef298f84",
   "metadata": {},
   "outputs": [],
   "source": [
    "a1=20\n",
    "\n",
    "def val():\n",
    "    global a1\n",
    "    a1=30\n",
    "    print('the value of a1:',a1)"
   ]
  },
  {
   "cell_type": "code",
   "execution_count": 6,
   "id": "3011a812",
   "metadata": {},
   "outputs": [
    {
     "name": "stdout",
     "output_type": "stream",
     "text": [
      "the value of a1: 30\n"
     ]
    }
   ],
   "source": [
    "val()"
   ]
  },
  {
   "cell_type": "code",
   "execution_count": 7,
   "id": "14bc5abe",
   "metadata": {},
   "outputs": [
    {
     "name": "stdout",
     "output_type": "stream",
     "text": [
      "30\n"
     ]
    }
   ],
   "source": [
    "print(a1)"
   ]
  },
  {
   "cell_type": "code",
   "execution_count": null,
   "id": "632c5e08",
   "metadata": {},
   "outputs": [],
   "source": [
    "a=20  #global variable\n",
    "\n",
    "def val():\n",
    "    a=30   # local variable\n",
    "    print('the value of a:',a)\n",
    "    \n",
    "val()\n",
    "print(a) \n",
    "\n",
    "#  ============================================================\n",
    "# use case : we wnat to use latest value of a\n",
    "#            we want to use local variable oout side function call without\n",
    "#=================================================================\n",
    "a=20 #global variable\n",
    "\n",
    "def val():\n",
    "    global a\n",
    "    a=30\n",
    "    print('the value of a:',a)\n",
    "    \n",
    "val()\n",
    "print(a)"
   ]
  },
  {
   "cell_type": "code",
   "execution_count": 8,
   "id": "ea7ef8f6",
   "metadata": {},
   "outputs": [
    {
     "name": "stdout",
     "output_type": "stream",
     "text": [
      "the value of a: 30\n",
      "30\n"
     ]
    }
   ],
   "source": [
    "a=20 #global variable\n",
    "\n",
    "def val():\n",
    "    global a\n",
    "    a=30\n",
    "    print('the value of a:',a)\n",
    "    \n",
    "val()\n",
    "print(a)"
   ]
  },
  {
   "cell_type": "code",
   "execution_count": 9,
   "id": "f2da33a7",
   "metadata": {},
   "outputs": [
    {
     "name": "stdout",
     "output_type": "stream",
     "text": [
      "30\n"
     ]
    }
   ],
   "source": [
    "print(a)"
   ]
  },
  {
   "cell_type": "code",
   "execution_count": 10,
   "id": "5c7791dc",
   "metadata": {},
   "outputs": [
    {
     "name": "stdout",
     "output_type": "stream",
     "text": [
      "70\n"
     ]
    }
   ],
   "source": [
    "n1=20\n",
    "\n",
    "def add(n2,n3):\n",
    "    global n1\n",
    "    n1=n2+n3  # 30,40  30+40 = 70\n",
    "    #local variable global variable\n",
    "    \n",
    "add(30,40)\n",
    "print(n1)"
   ]
  },
  {
   "cell_type": "code",
   "execution_count": null,
   "id": "17ed8b21",
   "metadata": {},
   "outputs": [],
   "source": [
    "what is the differene between return and global the parameters"
   ]
  },
  {
   "cell_type": "code",
   "execution_count": 11,
   "id": "8f84fe64",
   "metadata": {},
   "outputs": [
    {
     "name": "stdout",
     "output_type": "stream",
     "text": [
      "70\n",
      "30\n"
     ]
    }
   ],
   "source": [
    "num1=30\n",
    "def add(num2,num3):\n",
    "    global num1\n",
    "    num1=num2+num3\n",
    "    return(num2)\n",
    "\n",
    "\n",
    "num2=add(30,40)\n",
    "print(num1)\n",
    "print(num2)\n",
    "# iwnat to use num2 also out side the function call:return"
   ]
  },
  {
   "cell_type": "code",
   "execution_count": 12,
   "id": "4d918294",
   "metadata": {},
   "outputs": [
    {
     "ename": "SyntaxError",
     "evalue": "name 'num2' is parameter and global (3435075553.py, line 4)",
     "output_type": "error",
     "traceback": [
      "\u001b[1;36m  Cell \u001b[1;32mIn[12], line 4\u001b[1;36m\u001b[0m\n\u001b[1;33m    global num2,num3\u001b[0m\n\u001b[1;37m    ^\u001b[0m\n\u001b[1;31mSyntaxError\u001b[0m\u001b[1;31m:\u001b[0m name 'num2' is parameter and global\n"
     ]
    }
   ],
   "source": [
    "#can i use global variable on num2?\n",
    "num1=30 #global variable\n",
    "def add(num2,num3):\n",
    "    global num2,num3\n",
    "    num1=num2+num3\n",
    "    \n",
    "num2=add(30,40)\n",
    "print(num1)\n",
    "print(num2)\n",
    "\n",
    "#parameters never become a global variable \n",
    "# that are always inside the function only"
   ]
  },
  {
   "cell_type": "code",
   "execution_count": 13,
   "id": "1ff29d60",
   "metadata": {},
   "outputs": [
    {
     "name": "stdout",
     "output_type": "stream",
     "text": [
      "enter number:100\n",
      "140\n",
      "100\n"
     ]
    }
   ],
   "source": [
    "# can i use global variable on num2?\n",
    "# here num2 is a  local variable \n",
    "# it is not a parameter\n",
    "num1=30\n",
    "def add(num3):\n",
    "    global num1,num2\n",
    "    num2=eval(input('enter number:'))\n",
    "    num1=num2+num3\n",
    "    # num1=100+40=140\n",
    "    # num2=100\n",
    "    \n",
    "    \n",
    "add(40)\n",
    "print(num1)\n",
    "print(num2)\n",
    "\n",
    "#two solutions\n",
    "#num2 using return statement\n",
    "#num2 using global statement:global num2 is working or not"
   ]
  },
  {
   "cell_type": "markdown",
   "id": "943aea2d",
   "metadata": {},
   "source": [
    "   .if you want covert local variable to global variable:global keyword\n",
    "   . parameters can not covert into global variable"
   ]
  },
  {
   "cell_type": "code",
   "execution_count": null,
   "id": "d6d14bc5",
   "metadata": {},
   "outputs": [],
   "source": [
    "# tip and bill\n",
    "# step-1: take bill as global variable : bill = 100\n",
    "# atep-2: create a function,inside the function provide default parameter\n",
    "# step-3: create a globall keyword as a total amount\n",
    "#step-4: calculate total amount\n",
    "#step-5: print total amount out side the function\n",
    "\n",
    "bill=1000 #step-1\n",
    "def totalamt(tip=30):\n",
    "    totalamt=bill+tip\n",
    "print('total amount',totalamt)\n",
    "\n",
    "bill=1000\n",
    "def totalamt(tip=30):\n",
    "    global totalamt\n",
    "    totalamt=bill+tip\n",
    "print('total amount:',totalamt)"
   ]
  },
  {
   "cell_type": "code",
   "execution_count": 14,
   "id": "31fd951f",
   "metadata": {},
   "outputs": [
    {
     "name": "stdout",
     "output_type": "stream",
     "text": [
      "enter the bill amount:1000\n",
      "total bill is: 1030\n"
     ]
    }
   ],
   "source": [
    "bill=eval(input('enter the bill amount:'))\n",
    "def total_bill(tip=30):\n",
    "    try:\n",
    "        global total_bill\n",
    "        total_bill=bill+tip\n",
    "    except exception as e:\n",
    "        print(e)\n",
    "total_bill()\n",
    "print('total bill is:',total_bill)"
   ]
  },
  {
   "cell_type": "code",
   "execution_count": 19,
   "id": "a4edf83d",
   "metadata": {},
   "outputs": [
    {
     "name": "stdout",
     "output_type": "stream",
     "text": [
      "1100.0\n"
     ]
    }
   ],
   "source": [
    "bill=1000\n",
    "def t_bill(tip):\n",
    "    global t_bill\n",
    "    t_bill=bill+((bill*tip)/100)\n",
    "    \n",
    "t_bill(10)\n",
    "print(t_bill)"
   ]
  },
  {
   "cell_type": "code",
   "execution_count": 3,
   "id": "e6884289",
   "metadata": {},
   "outputs": [
    {
     "name": "stdout",
     "output_type": "stream",
     "text": [
      "enter the bill:1000\n",
      "1050\n"
     ]
    }
   ],
   "source": [
    "bill_amount=eval(input('enter the bill:'))\n",
    "def bill1(tip=50):\n",
    "    global total_amount\n",
    "    total_amount=bill_amount+tip\n",
    "    \n",
    "bill1()\n",
    "print(total_amount)"
   ]
  },
  {
   "cell_type": "markdown",
   "id": "21cd7319",
   "metadata": {},
   "source": [
    "******functions in functions*****"
   ]
  },
  {
   "cell_type": "code",
   "execution_count": 4,
   "id": "fe976192",
   "metadata": {},
   "outputs": [
    {
     "name": "stdout",
     "output_type": "stream",
     "text": [
      "sai\n",
      "hello good morning\n",
      "how do you do\n"
     ]
    }
   ],
   "source": [
    "def hey():\n",
    "    print('sai')\n",
    "    print('hello good morning')\n",
    "    print('how do you do')\n",
    "\n",
    "hey()\n",
    "    "
   ]
  },
  {
   "cell_type": "code",
   "execution_count": 7,
   "id": "46dceae7",
   "metadata": {},
   "outputs": [
    {
     "name": "stdout",
     "output_type": "stream",
     "text": [
      "hello good morning\n"
     ]
    }
   ],
   "source": [
    "def greet():\n",
    "    print('hello good morning')\n",
    "greet()"
   ]
  },
  {
   "cell_type": "code",
   "execution_count": 11,
   "id": "d0e32c9a",
   "metadata": {},
   "outputs": [
    {
     "name": "stdout",
     "output_type": "stream",
     "text": [
      "sai\n",
      "hello good morning\n",
      "how do you do\n"
     ]
    }
   ],
   "source": [
    "def greet():\n",
    "    print('hello good morning')\n",
    "    \n",
    "def hey():\n",
    "    print('sai')\n",
    "    greet()\n",
    "    print('how do you do')\n",
    "    \n",
    "hey()"
   ]
  },
  {
   "cell_type": "code",
   "execution_count": 19,
   "id": "390ebd73",
   "metadata": {},
   "outputs": [
    {
     "name": "stdout",
     "output_type": "stream",
     "text": [
      "hello\n",
      "how do you do\n",
      "how much 3+5=?\n",
      "i think i dont know\n",
      "end the story\n"
     ]
    }
   ],
   "source": [
    "def greet1():\n",
    "    print('hello')\n",
    "def greet2():\n",
    "    print('how do you do')\n",
    "def greet3():\n",
    "    print('how much 3+5=?')\n",
    "def greet4():\n",
    "    print('i think i dont know')\n",
    "    \n",
    "def solve():\n",
    "    greet1()\n",
    "    greet2()\n",
    "    greet3()\n",
    "    greet4()\n",
    "    print('end the story')\n",
    "solve()"
   ]
  },
  {
   "cell_type": "code",
   "execution_count": 18,
   "id": "11077a48",
   "metadata": {},
   "outputs": [
    {
     "name": "stdout",
     "output_type": "stream",
     "text": [
      "how do you do\n",
      "hello\n",
      "how much 3+5=?\n",
      "i think i dont know\n",
      "end the story\n"
     ]
    }
   ],
   "source": [
    "def greet1():\n",
    "    print('hello')\n",
    "def greet2():\n",
    "    print('how do you do')\n",
    "def greet3():\n",
    "    print('how much 3+5=?')\n",
    "def greet4():\n",
    "    print('i think i dont know')\n",
    "    \n",
    "def solve():\n",
    "    greet2()\n",
    "    greet1()\n",
    "    greet3()\n",
    "    greet4()\n",
    "    print('end the story')\n",
    "solve()"
   ]
  },
  {
   "cell_type": "code",
   "execution_count": 22,
   "id": "14986445",
   "metadata": {},
   "outputs": [
    {
     "name": "stdout",
     "output_type": "stream",
     "text": [
      "hello: python\n",
      "how are you: anil\n",
      "how much 3+5=? 8\n",
      "i think i dont know\n"
     ]
    }
   ],
   "source": [
    "def greet1(name1):\n",
    "    print('hello:',name1)\n",
    "def greet2(name2):\n",
    "    print('how are you:',name2)\n",
    "def greet3(val):\n",
    "    print('how much 3+5=?',val)\n",
    "def greet4():\n",
    "    print('i think i dont know')\n",
    "    \n",
    "def solve(val,name1,name2):\n",
    "    greet1(name1)\n",
    "    greet2(name2)\n",
    "    greet3(val)\n",
    "    greet4()\n",
    "    \n",
    "solve(8,'python','anil')"
   ]
  },
  {
   "cell_type": "markdown",
   "id": "66f26411",
   "metadata": {},
   "source": [
    "practice above"
   ]
  },
  {
   "cell_type": "code",
   "execution_count": 26,
   "id": "d6ad184d",
   "metadata": {},
   "outputs": [
    {
     "name": "stdout",
     "output_type": "stream",
     "text": [
      "hello python\n",
      "how do you do sai\n",
      "how much 3+5=? 8\n",
      "i think i dont know\n"
     ]
    }
   ],
   "source": [
    "def greet1(name1):\n",
    "    print('hello',name1)\n",
    "def greet2(name2):\n",
    "    print('how do you do',name2)\n",
    "def greet3(val):\n",
    "    print('how much 3+5=?',val)\n",
    "def greet4():\n",
    "    print('i think i dont know')\n",
    "    \n",
    "def solve(name1,name2,val):\n",
    "    greet1(name1)\n",
    "    greet2(name2)\n",
    "    greet3(val)\n",
    "    greet4()\n",
    "    \n",
    "solve('python','sai','8')\n",
    "    \n"
   ]
  },
  {
   "cell_type": "code",
   "execution_count": 27,
   "id": "0c848fa3",
   "metadata": {},
   "outputs": [
    {
     "data": {
      "text/plain": [
       "10"
      ]
     },
     "execution_count": 27,
     "metadata": {},
     "output_type": "execute_result"
    }
   ],
   "source": [
    "def add(a,b):\n",
    "    return(a+b)\n",
    "\n",
    "add(3,7)"
   ]
  },
  {
   "cell_type": "code",
   "execution_count": null,
   "id": "f68df3ed",
   "metadata": {},
   "outputs": [],
   "source": [
    "#simple calculator program\n",
    "#define 4 functions individually\n",
    "#first fun: add(a,b)==== two arguments\n",
    "#           print(\"the addition of {} and {} is {}:\",a+b)\n",
    "#second fun: sub(a,b)===two arguments\n",
    "#           print(\"the sub of {} and {} is{}:\",a-b)\n",
    "#third fun: mul(a,b)====two arguments\n",
    "#           print(\"the mul of {} and {} is {}:\",a*b)\n",
    "#four fun: div(a,b)==== two arguments\n",
    "#           print(\"the div of {} and {} is {}:\",a/b)\n",
    " \n",
    "#define main function oas calculator (a,b)\n",
    "#print(\"if you give 1 it gives addition\")\n",
    "#print(\"if you give 2 it gives sub\")\n",
    "#print(\"if you give 3 it gives mul\")\n",
    "#print(\" if you give 4 it gives the div\")\n",
    "#inside number : input (\"enter a number between 1 to 4\")\n",
    "#if that number ==\"1\": the call add(a,b)\n",
    "#if that number==\"2\" : the call sub(a,b)\n",
    "#if that number==\"3\" : the call mul(a,b)\n",
    "#if that number==\"4\" : the call div(a,b)\n",
    "\n",
    "#calculator(10,20)"
   ]
  },
  {
   "cell_type": "code",
   "execution_count": null,
   "id": "43dfff86",
   "metadata": {},
   "outputs": [],
   "source": [
    "def add(a,b):\n",
    "    print('the addition of {} and {} is {}:'.format(a,b,a+b))\n",
    "def sub(a,b):\n",
    "    print('the subtraction of {} and {} is {}:'.format(a,b,a-b))\n",
    "def mul(a,b):\n",
    "    print('the multiplication of {} and {} is {}:'.format(a,b,a*b))\n",
    "def div(a,b):\n",
    "    print('the division of {} and {} is {}:'.format(a,b,a/b))\n",
    "    \n",
    "def calculator (a,b):\n",
    "    num=('please enter a number between 1 to 4:')\n",
    "    if num=='1':\n",
    "        add(a,b)                                                   *****success*****\n",
    "    elif num=='2':\n",
    "        sub(a,b)\n",
    "    elif num=='3':\n",
    "        mul(a,b)\n",
    "    elif num=='4':\n",
    "        div(a,b)\n",
    "    else:\n",
    "        print('enter a valid number:')\n",
    "       \n",
    "    \n",
    "calculator(4,3)"
   ]
  },
  {
   "cell_type": "code",
   "execution_count": null,
   "id": "df0757b9",
   "metadata": {},
   "outputs": [],
   "source": []
  },
  {
   "cell_type": "code",
   "execution_count": null,
   "id": "fc3cf4d2",
   "metadata": {},
   "outputs": [],
   "source": [
    "def add(a,b):\n",
    "    print('add:',a+b)\n",
    "def sub(a,b):\n",
    "    print('sub:',a-b)\n",
    "def mul(a,b):\n",
    "    print('mul:',a*b)\n",
    "def div(a,b):\n",
    "    print('div:',a/b)\n",
    "    \n",
    "def calculator(a,b):\n",
    "    num=input('enter the operation +,-,*,/):')\n",
    "    if num=='1':\n",
    "        add(a,b)\n",
    "    elif num=='2':\n",
    "        sub(a,b)\n",
    "    elif num=='3':\n",
    "        mul(a,b)\n",
    "    elif num=='4':\n",
    "        div(a,b)\n",
    "    else:\n",
    "        print('enter a valid number')\n",
    "        \n",
    "calculator(10,20)"
   ]
  },
  {
   "cell_type": "code",
   "execution_count": null,
   "id": "ac5f8ff1",
   "metadata": {},
   "outputs": [],
   "source": []
  },
  {
   "cell_type": "code",
   "execution_count": null,
   "id": "e64aea51",
   "metadata": {},
   "outputs": [],
   "source": []
  },
  {
   "cell_type": "code",
   "execution_count": null,
   "id": "b2def3ca",
   "metadata": {},
   "outputs": [],
   "source": []
  },
  {
   "cell_type": "code",
   "execution_count": null,
   "id": "9c21f7d8",
   "metadata": {},
   "outputs": [],
   "source": []
  },
  {
   "cell_type": "code",
   "execution_count": null,
   "id": "6bf6338b",
   "metadata": {},
   "outputs": [],
   "source": []
  },
  {
   "cell_type": "code",
   "execution_count": null,
   "id": "a3aaaca4",
   "metadata": {},
   "outputs": [],
   "source": []
  },
  {
   "cell_type": "code",
   "execution_count": null,
   "id": "68b8b046",
   "metadata": {},
   "outputs": [],
   "source": []
  }
 ],
 "metadata": {
  "kernelspec": {
   "display_name": "Python 3 (ipykernel)",
   "language": "python",
   "name": "python3"
  },
  "language_info": {
   "codemirror_mode": {
    "name": "ipython",
    "version": 3
   },
   "file_extension": ".py",
   "mimetype": "text/x-python",
   "name": "python",
   "nbconvert_exporter": "python",
   "pygments_lexer": "ipython3",
   "version": "3.11.5"
  }
 },
 "nbformat": 4,
 "nbformat_minor": 5
}
