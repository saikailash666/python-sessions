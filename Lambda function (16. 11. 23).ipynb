{
 "cells": [
  {
   "cell_type": "code",
   "execution_count": 1,
   "id": "ad38c6b0",
   "metadata": {},
   "outputs": [
    {
     "data": {
      "text/plain": [
       "20"
      ]
     },
     "execution_count": 1,
     "metadata": {},
     "output_type": "execute_result"
    }
   ],
   "source": [
    "# normal function\n",
    "def add(x):\n",
    "    return(x+10)\n",
    "add(10)"
   ]
  },
  {
   "cell_type": "code",
   "execution_count": 2,
   "id": "e5d78f9d",
   "metadata": {},
   "outputs": [
    {
     "data": {
      "text/plain": [
       "20"
      ]
     },
     "execution_count": 2,
     "metadata": {},
     "output_type": "execute_result"
    }
   ],
   "source": [
    "# how many arguments are there/\n",
    "# what you are returning?    x+10\n",
    "\n",
    "# <function-name>= lambda <argument_name>: <return_value>\n",
    "\n",
    "add=lambda x:x+10\n",
    "add(10)"
   ]
  },
  {
   "cell_type": "code",
   "execution_count": 3,
   "id": "36102799",
   "metadata": {},
   "outputs": [
    {
     "data": {
      "text/plain": [
       "25"
      ]
     },
     "execution_count": 3,
     "metadata": {},
     "output_type": "execute_result"
    }
   ],
   "source": [
    "def mul(num):\n",
    "    return(num*num)\n",
    "\n",
    "mul(5)\n",
    "    "
   ]
  },
  {
   "cell_type": "code",
   "execution_count": 7,
   "id": "bc1fb316",
   "metadata": {},
   "outputs": [
    {
     "data": {
      "text/plain": [
       "25"
      ]
     },
     "execution_count": 7,
     "metadata": {},
     "output_type": "execute_result"
    }
   ],
   "source": [
    "mul=lambda num:num*num\n",
    "mul(5)"
   ]
  },
  {
   "cell_type": "code",
   "execution_count": 9,
   "id": "4a818056",
   "metadata": {},
   "outputs": [
    {
     "data": {
      "text/plain": [
       "27"
      ]
     },
     "execution_count": 9,
     "metadata": {},
     "output_type": "execute_result"
    }
   ],
   "source": [
    "def cube(val):\n",
    "    return(val*val*val)\n",
    "\n",
    "cube(3)"
   ]
  },
  {
   "cell_type": "code",
   "execution_count": 4,
   "id": "968d0ecc",
   "metadata": {},
   "outputs": [
    {
     "data": {
      "text/plain": [
       "64"
      ]
     },
     "execution_count": 4,
     "metadata": {},
     "output_type": "execute_result"
    }
   ],
   "source": [
    "cube=lambda val:val*val*val\n",
    "cube(4)"
   ]
  },
  {
   "cell_type": "markdown",
   "id": "958b462a",
   "metadata": {},
   "source": [
    "# lambda functions with two arguments"
   ]
  },
  {
   "cell_type": "code",
   "execution_count": 5,
   "id": "899d1ba6",
   "metadata": {},
   "outputs": [
    {
     "data": {
      "text/plain": [
       "30"
      ]
     },
     "execution_count": 5,
     "metadata": {},
     "output_type": "execute_result"
    }
   ],
   "source": [
    "def sum1(a,b):\n",
    "    return(a+b)\n",
    "sum1(10,20)"
   ]
  },
  {
   "cell_type": "code",
   "execution_count": 10,
   "id": "86288a30",
   "metadata": {},
   "outputs": [
    {
     "data": {
      "text/plain": [
       "30"
      ]
     },
     "execution_count": 10,
     "metadata": {},
     "output_type": "execute_result"
    }
   ],
   "source": [
    "# <function_name> = lambda <argument_name>:<return_value>\n",
    "\n",
    "sum1=lambda a,b:a+b\n",
    "\n",
    "sum1(10,20)"
   ]
  },
  {
   "cell_type": "code",
   "execution_count": 11,
   "id": "bb3d3cc5",
   "metadata": {},
   "outputs": [
    {
     "data": {
      "text/plain": [
       "20.0"
      ]
     },
     "execution_count": 11,
     "metadata": {},
     "output_type": "execute_result"
    }
   ],
   "source": [
    "def avg(a,b,c):\n",
    "    return((a+b+c)/3)\n",
    "\n",
    "avg(10,20,30)"
   ]
  },
  {
   "cell_type": "code",
   "execution_count": 13,
   "id": "2289e7be",
   "metadata": {},
   "outputs": [
    {
     "data": {
      "text/plain": [
       "43.333333333333336"
      ]
     },
     "execution_count": 13,
     "metadata": {},
     "output_type": "execute_result"
    }
   ],
   "source": [
    "def avg(a,b,c=100):\n",
    "    return((a+b+c)/3)\n",
    "\n",
    "avg(10,20,)"
   ]
  },
  {
   "cell_type": "code",
   "execution_count": 15,
   "id": "39de0d00",
   "metadata": {},
   "outputs": [
    {
     "data": {
      "text/plain": [
       "43.33"
      ]
     },
     "execution_count": 15,
     "metadata": {},
     "output_type": "execute_result"
    }
   ],
   "source": [
    "round(43.3333,2)"
   ]
  },
  {
   "cell_type": "code",
   "execution_count": 14,
   "id": "c7e9c7a3",
   "metadata": {},
   "outputs": [
    {
     "data": {
      "text/plain": [
       "43.33"
      ]
     },
     "execution_count": 14,
     "metadata": {},
     "output_type": "execute_result"
    }
   ],
   "source": [
    "avg = lambda a,b,c=100: round((a+b+c)/3,2)\n",
    "avg(10,20)"
   ]
  },
  {
   "cell_type": "markdown",
   "id": "67485e7a",
   "metadata": {},
   "source": [
    "# lambda function with if-else"
   ]
  },
  {
   "cell_type": "code",
   "execution_count": 16,
   "id": "e4de3cc8",
   "metadata": {},
   "outputs": [
    {
     "data": {
      "text/plain": [
       "100"
      ]
     },
     "execution_count": 16,
     "metadata": {},
     "output_type": "execute_result"
    }
   ],
   "source": [
    "def greater(num1,num2):\n",
    "    if num1>num2:\n",
    "        return(num1)\n",
    "    \n",
    "    else:\n",
    "        return(num2)\n",
    "    \n",
    "greater(50,100)\n",
    "    "
   ]
  },
  {
   "cell_type": "code",
   "execution_count": 19,
   "id": "cbbac594",
   "metadata": {},
   "outputs": [
    {
     "data": {
      "text/plain": [
       "200"
      ]
     },
     "execution_count": 19,
     "metadata": {},
     "output_type": "execute_result"
    }
   ],
   "source": [
    "# <function-name>= lambda <arg1,arg2>: <if-output> <if_coond> else <else_output>\n",
    "    \n",
    "greater=lambda num1,num2: num1 if num1>num2 else num2\n",
    "\n",
    "greater(100,200)"
   ]
  },
  {
   "cell_type": "code",
   "execution_count": 20,
   "id": "fb9089ff",
   "metadata": {},
   "outputs": [
    {
     "data": {
      "text/plain": [
       "100"
      ]
     },
     "execution_count": 20,
     "metadata": {},
     "output_type": "execute_result"
    }
   ],
   "source": [
    "greater=lambda num1,num2: num1 if num1>num2 else num1\n",
    "\n",
    "greater(100,200)"
   ]
  },
  {
   "cell_type": "markdown",
   "id": "95a63d9e",
   "metadata": {},
   "source": [
    "# lambda functions with list"
   ]
  },
  {
   "cell_type": "code",
   "execution_count": 21,
   "id": "1b2fd3bc",
   "metadata": {},
   "outputs": [
    {
     "data": {
      "text/plain": [
       "['Hyd', 'Mumbai', 'Bengaluru']"
      ]
     },
     "execution_count": 21,
     "metadata": {},
     "output_type": "execute_result"
    }
   ],
   "source": [
    "#==========================method-1==============\n",
    "list1=['hyd','mumbai','bengaluru']\n",
    "\n",
    "#output: ['hyd','mumbai',bengaluru']\n",
    "output=[]\n",
    "\n",
    "for i in list1:\n",
    "    output.append(i.capitalize())\n",
    "    \n",
    "output\n"
   ]
  },
  {
   "cell_type": "code",
   "execution_count": 6,
   "id": "64203d17",
   "metadata": {},
   "outputs": [
    {
     "data": {
      "text/plain": [
       "['Hyd', 'Mumbai', 'Bengaluru']"
      ]
     },
     "execution_count": 6,
     "metadata": {},
     "output_type": "execute_result"
    }
   ],
   "source": [
    "#=============================method-2=======================\n",
    "list1=['hyd','mumbai','bengaluru']\n",
    "\n",
    "output=[i.capitalize() for i in list1]\n",
    "\n",
    "output"
   ]
  },
  {
   "cell_type": "code",
   "execution_count": null,
   "id": "e60baab7",
   "metadata": {},
   "outputs": [],
   "source": [
    "#============================method-3==with lambda==========="
   ]
  },
  {
   "cell_type": "code",
   "execution_count": null,
   "id": "aed1cb0d",
   "metadata": {},
   "outputs": [],
   "source": [
    "lambda i:i.capiltalize()       #iterate the values\n",
    "\n",
    "fun1=lambda x: x+10\n",
    "\n",
    "fun2=lambda num : num*num\n",
    "\n",
    "fun3=lambda a,b : a+b\n",
    "\n",
    "fun4=lambda num1,num2: num1 if num1>num2 else num2"
   ]
  },
  {
   "cell_type": "code",
   "execution_count": null,
   "id": "aeb8b3a9",
   "metadata": {},
   "outputs": [],
   "source": []
  },
  {
   "cell_type": "markdown",
   "id": "586764b4",
   "metadata": {},
   "source": [
    "# map"
   ]
  },
  {
   "cell_type": "code",
   "execution_count": 8,
   "id": "d7338d61",
   "metadata": {},
   "outputs": [],
   "source": [
    "list1=['hyd','mumbai','bengaluru']\n",
    "\n",
    "lambda i:i.capiltalize(),list1\n",
    "\n",
    "def abc(i):\n",
    "    return(i.capitalize())\n",
    "\n",
    "# lambda <var>: <output>, <list1/string/tuple>"
   ]
  },
  {
   "cell_type": "code",
   "execution_count": 9,
   "id": "9c85b441",
   "metadata": {},
   "outputs": [
    {
     "data": {
      "text/plain": [
       "['Hyd', 'Mumbai', 'Bengaluru']"
      ]
     },
     "execution_count": 9,
     "metadata": {},
     "output_type": "execute_result"
    }
   ],
   "source": [
    "list1=['hyd','mumbai','bengaluru']\n",
    "list(map(lambda i:i.capitalize(), list1))\n",
    "\n",
    "# step-1: <create a lambda function : lambda i: i.capitalize()\n",
    "# step_2: add you riterator \n",
    "\n",
    "# step_1,step_2: lambda i: i.capitalize(),list1\n",
    "\n",
    "# step-3: mapping of both step-1 and step-2\n",
    "\n",
    "#          map(step1,step2)\n",
    "#          map(lambda i: i.capitalize(),list1)\n",
    "# step-4: you need to save the result again in a list or tuple\n",
    "\n",
    "#    list(map(step1,step-2))\n",
    "#    list(map(lambda i: i.capitallize().list1))"
   ]
  },
  {
   "cell_type": "code",
   "execution_count": null,
   "id": "673fafce",
   "metadata": {},
   "outputs": [],
   "source": []
  },
  {
   "cell_type": "code",
   "execution_count": 10,
   "id": "647582af",
   "metadata": {},
   "outputs": [
    {
     "name": "stdout",
     "output_type": "stream",
     "text": [
      "1\n",
      "2\n",
      "3\n",
      "4\n"
     ]
    }
   ],
   "source": [
    "# what is meant by iterator===it means looping\n",
    "\n",
    "# which data types you can iterate \n",
    "\n",
    "# which means which data types you can print by using for loop\n",
    "\n",
    "string1=\"python\"\n",
    "\n",
    "# for  i in string1: print(i)\n",
    "\n",
    "list1=[1,2,3,4]\n",
    "for i in list1: print(i)\n",
    "    \n",
    "tuple1=(1,2,3,4)"
   ]
  },
  {
   "cell_type": "code",
   "execution_count": null,
   "id": "dbb0c5ce",
   "metadata": {},
   "outputs": [],
   "source": []
  },
  {
   "cell_type": "code",
   "execution_count": 24,
   "id": "3c511e1d",
   "metadata": {},
   "outputs": [
    {
     "name": "stdout",
     "output_type": "stream",
     "text": [
      "n\n",
      "o\n",
      "h\n",
      "t\n",
      "y\n",
      "p\n"
     ]
    }
   ],
   "source": [
    "val=reversed('python')\n",
    "for i in val:\n",
    "    print(i)"
   ]
  },
  {
   "cell_type": "code",
   "execution_count": 12,
   "id": "7d57dc39",
   "metadata": {},
   "outputs": [
    {
     "data": {
      "text/plain": [
       "[1, 4, 9, 16]"
      ]
     },
     "execution_count": 12,
     "metadata": {},
     "output_type": "execute_result"
    }
   ],
   "source": [
    "list1=[1,2,3,4]\n",
    "# output: [1,2,3,4]\n",
    "\n",
    "# create  a noramal function if it has a single value\n",
    "# def square(num*num):\n",
    "\n",
    "# square (10)\n",
    "\n",
    "[num*num for num in list1]\n",
    "\n",
    "list(map(lambda num:num*num,list1))"
   ]
  },
  {
   "cell_type": "code",
   "execution_count": 45,
   "id": "edc7800a",
   "metadata": {},
   "outputs": [
    {
     "data": {
      "text/plain": [
       "[1, 4, 9, 16]"
      ]
     },
     "execution_count": 45,
     "metadata": {},
     "output_type": "execute_result"
    }
   ],
   "source": [
    "list1=[1,2,3,4]\n",
    "\n",
    "[num*num for num in list1]\n"
   ]
  },
  {
   "cell_type": "code",
   "execution_count": 49,
   "id": "cb65517f",
   "metadata": {},
   "outputs": [
    {
     "data": {
      "text/plain": [
       "[1, 4, 9, 16]"
      ]
     },
     "execution_count": 49,
     "metadata": {},
     "output_type": "execute_result"
    }
   ],
   "source": [
    "list(map(lambda num:num*num,list1))"
   ]
  },
  {
   "cell_type": "code",
   "execution_count": 51,
   "id": "e12c3e05",
   "metadata": {},
   "outputs": [
    {
     "name": "stdout",
     "output_type": "stream",
     "text": [
      "1,2,3,4\n"
     ]
    },
    {
     "data": {
      "text/plain": [
       "(1, 2, 3, 4)"
      ]
     },
     "execution_count": 51,
     "metadata": {},
     "output_type": "execute_result"
    }
   ],
   "source": [
    "eval(input())"
   ]
  },
  {
   "cell_type": "markdown",
   "id": "7ee28a98",
   "metadata": {},
   "source": [
    "# filter"
   ]
  },
  {
   "cell_type": "code",
   "execution_count": 55,
   "id": "fdb21300",
   "metadata": {},
   "outputs": [
    {
     "data": {
      "text/plain": [
       "[False, True, True, True]"
      ]
     },
     "execution_count": 55,
     "metadata": {},
     "output_type": "execute_result"
    }
   ],
   "source": [
    "list1=['hyd','biriyani','buvaneshwar','rasagulla']\n",
    "list(map(lambda i:len(i)>3,list1))"
   ]
  },
  {
   "cell_type": "code",
   "execution_count": 13,
   "id": "9ea272f3",
   "metadata": {},
   "outputs": [
    {
     "data": {
      "text/plain": [
       "['biriyani', 'buvaneshwar', 'rasagulla']"
      ]
     },
     "execution_count": 13,
     "metadata": {},
     "output_type": "execute_result"
    }
   ],
   "source": [
    "l1=['hyd','biriyani','buvaneshwar','rasagulla']\n",
    "list(filter(lambda i: len(i)>3,l1))"
   ]
  },
  {
   "cell_type": "code",
   "execution_count": 14,
   "id": "02befbaf",
   "metadata": {},
   "outputs": [
    {
     "data": {
      "text/plain": [
       "[True, False, True, True]"
      ]
     },
     "execution_count": 14,
     "metadata": {},
     "output_type": "execute_result"
    }
   ],
   "source": [
    "l2=['biriyani','hyd','buvaneswar','rasagulla']\n",
    "\n",
    "list(map(lambda i:len(i)>3,l2))"
   ]
  },
  {
   "cell_type": "code",
   "execution_count": 15,
   "id": "67227a1b",
   "metadata": {},
   "outputs": [
    {
     "data": {
      "text/plain": [
       "[False, True, True, True, True]"
      ]
     },
     "execution_count": 15,
     "metadata": {},
     "output_type": "execute_result"
    }
   ],
   "source": [
    "list1=['hyd','biriyani','odisha','buvaneshwar','rasagulla']\n",
    "\n",
    "list(map(lambda i:len(i)>3,list1))"
   ]
  },
  {
   "cell_type": "code",
   "execution_count": null,
   "id": "f57b199f",
   "metadata": {},
   "outputs": [],
   "source": [
    "# i========= >.capitalize()\n",
    "for i in list1:\n",
    "    print(i.capitalize(i))\n",
    "    \n",
    "# i =======> i*i\n",
    "\n",
    "for i in list1:\n",
    "    print(i*i)\n",
    "    \n",
    "# i ====> len(i)>3\n",
    "for i in list1:\n",
    "    if len(i)>3:\n",
    "        print(i)"
   ]
  },
  {
   "cell_type": "code",
   "execution_count": null,
   "id": "b745cc54",
   "metadata": {},
   "outputs": [],
   "source": []
  },
  {
   "cell_type": "code",
   "execution_count": 63,
   "id": "93747f20",
   "metadata": {},
   "outputs": [
    {
     "name": "stdout",
     "output_type": "stream",
     "text": [
      "biriyani\n",
      "buvaneshwar\n",
      "rasagulla\n"
     ]
    },
    {
     "data": {
      "text/plain": [
       "['biriyani', 'buvaneshwar', 'rasagulla']"
      ]
     },
     "execution_count": 63,
     "metadata": {},
     "output_type": "execute_result"
    }
   ],
   "source": [
    "list1=['hyd','biriyani','buvaneshwar','rasagulla']\n",
    "\n",
    "for i in list1:\n",
    "    if len(i)>3:\n",
    "        print(i)\n",
    "        \n",
    "# step-1:\n",
    "list(filter(lambda i: len(i)>3,list1))"
   ]
  },
  {
   "cell_type": "code",
   "execution_count": 64,
   "id": "1cabbe33",
   "metadata": {},
   "outputs": [
    {
     "name": "stdout",
     "output_type": "stream",
     "text": [
      "biriyani\n",
      "buvaneshwar\n",
      "rasagulla\n"
     ]
    },
    {
     "data": {
      "text/plain": [
       "('biriyani', 'buvaneshwar', 'rasagulla')"
      ]
     },
     "execution_count": 64,
     "metadata": {},
     "output_type": "execute_result"
    }
   ],
   "source": [
    "list1=['hyd','biriyani','buvaneshwar','rasagulla']\n",
    "\n",
    "for i in list1:\n",
    "    if len(i)>3:\n",
    "        print(i)\n",
    "        \n",
    "# step-1:\n",
    "tuple(filter(lambda i: len(i)>3,list1))"
   ]
  },
  {
   "cell_type": "code",
   "execution_count": 18,
   "id": "8d4150b7",
   "metadata": {},
   "outputs": [
    {
     "data": {
      "text/plain": [
       "['hy#d', 'biriy#ani', 'buvan#eshwar']"
      ]
     },
     "execution_count": 18,
     "metadata": {},
     "output_type": "execute_result"
    }
   ],
   "source": [
    "list1=['hy#d','biriy#ani','buvan#eshwar','rasagulla']\n",
    "list(filter(lambda i: '#' in i,list1))\n"
   ]
  },
  {
   "cell_type": "code",
   "execution_count": 20,
   "id": "48cd6c2a",
   "metadata": {},
   "outputs": [
    {
     "ename": "NameError",
     "evalue": "name 'step1' is not defined",
     "output_type": "error",
     "traceback": [
      "\u001b[1;31m---------------------------------------------------------------------------\u001b[0m",
      "\u001b[1;31mNameError\u001b[0m                                 Traceback (most recent call last)",
      "Cell \u001b[1;32mIn[20], line 6\u001b[0m\n\u001b[0;32m      2\u001b[0m \u001b[38;5;28mlist\u001b[39m(\u001b[38;5;28mfilter\u001b[39m(\u001b[38;5;28;01mlambda\u001b[39;00m i: \u001b[38;5;124m'\u001b[39m\u001b[38;5;124m#\u001b[39m\u001b[38;5;124m'\u001b[39m \u001b[38;5;129;01min\u001b[39;00m i,list1))\n\u001b[0;32m      4\u001b[0m \u001b[38;5;28mlist\u001b[39m(\u001b[38;5;28mfilter\u001b[39m(\u001b[38;5;28;01mlambda\u001b[39;00m i: \u001b[38;5;124m'\u001b[39m\u001b[38;5;124m#\u001b[39m\u001b[38;5;124m'\u001b[39m \u001b[38;5;129;01min\u001b[39;00m i,list1))\n\u001b[1;32m----> 6\u001b[0m \u001b[38;5;28mlist\u001b[39m(\u001b[38;5;28mmap\u001b[39m(step1,step2))\n",
      "\u001b[1;31mNameError\u001b[0m: name 'step1' is not defined"
     ]
    }
   ],
   "source": [
    "list1=['hy#d','biriy#ani','buvan#eshwar','rasagulla']\n",
    "list(filter(lambda i: '#' in i,list1))\n",
    "\n",
    "list(filter(lambda i: '#' in i,list1))\n",
    "\n",
    "list(map(step1,step2))\n"
   ]
  },
  {
   "cell_type": "code",
   "execution_count": null,
   "id": "92b4fe7c",
   "metadata": {},
   "outputs": [],
   "source": []
  },
  {
   "cell_type": "code",
   "execution_count": null,
   "id": "f8a5fe88",
   "metadata": {},
   "outputs": [],
   "source": [
    "list1=[1,2,3,4,5,6]\n",
    "\n",
    "#output: [{'even':[2,4,6],'odd':[1,3,5]}]\n",
    "#output: [{1:'odd',2:'even'}]"
   ]
  },
  {
   "cell_type": "code",
   "execution_count": 21,
   "id": "5639de5f",
   "metadata": {},
   "outputs": [
    {
     "data": {
      "text/plain": [
       "[{1: 'odd'}, {2: 'even'}, {3: 'odd'}, {4: 'even'}, {5: 'odd'}, {6: 'even'}]"
      ]
     },
     "execution_count": 21,
     "metadata": {},
     "output_type": "execute_result"
    }
   ],
   "source": [
    "list1=[1,2,3,4,5,6]\n",
    "list(map(lambda i: {i:'even'} if i%2==0 else {i:'odd'},list1))"
   ]
  },
  {
   "cell_type": "code",
   "execution_count": 27,
   "id": "2897405c",
   "metadata": {},
   "outputs": [
    {
     "data": {
      "text/plain": [
       "{'even': [2, 4, 6, 8], 'odd': [1, 3, 5, 7]}"
      ]
     },
     "execution_count": 27,
     "metadata": {},
     "output_type": "execute_result"
    }
   ],
   "source": [
    "l3=[1,2,3,4,5,6,7,8]\n",
    "d1={}\n",
    "d1['even']=list(filter(lambda i: i%2==0,l3))\n",
    "d1['odd']=list(filter(lambda i: i%2!=0,l3))\n",
    "d1"
   ]
  },
  {
   "cell_type": "code",
   "execution_count": 30,
   "id": "973ecef6",
   "metadata": {},
   "outputs": [
    {
     "data": {
      "text/plain": [
       "([2, 4, 6], [1, 3, 5])"
      ]
     },
     "execution_count": 30,
     "metadata": {},
     "output_type": "execute_result"
    }
   ],
   "source": [
    "list1=[1,2,3,4,5,6]\n",
    "even=list(filter(lambda i: i%2==0,list1))\n",
    "odd=list(filter(lambda i: i%2!=0,list1))\n",
    "even,odd"
   ]
  },
  {
   "cell_type": "code",
   "execution_count": null,
   "id": "e782342a",
   "metadata": {},
   "outputs": [],
   "source": []
  }
 ],
 "metadata": {
  "kernelspec": {
   "display_name": "Python 3 (ipykernel)",
   "language": "python",
   "name": "python3"
  },
  "language_info": {
   "codemirror_mode": {
    "name": "ipython",
    "version": 3
   },
   "file_extension": ".py",
   "mimetype": "text/x-python",
   "name": "python",
   "nbconvert_exporter": "python",
   "pygments_lexer": "ipython3",
   "version": "3.11.5"
  }
 },
 "nbformat": 4,
 "nbformat_minor": 5
}
