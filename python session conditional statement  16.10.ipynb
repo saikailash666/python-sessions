{
 "cells": [
  {
   "cell_type": "markdown",
   "id": "2f536f0f",
   "metadata": {},
   "source": [
    "conditional statement"
   ]
  },
  {
   "cell_type": "code",
   "execution_count": null,
   "id": "6a90669e",
   "metadata": {},
   "outputs": [],
   "source": [
    "if\n",
    "if not === else"
   ]
  },
  {
   "cell_type": "code",
   "execution_count": null,
   "id": "1a5904fa",
   "metadata": {},
   "outputs": [],
   "source": [
    "yes   or   no\n",
    "if   ===  yes\n",
    "else ===  no"
   ]
  },
  {
   "cell_type": "code",
   "execution_count": null,
   "id": "79f1ef28",
   "metadata": {},
   "outputs": [],
   "source": [
    "#syntax\n",
    "if<condition>:\n",
    "#statement1\n",
    "#statement2\n",
    "#statement3"
   ]
  },
  {
   "cell_type": "code",
   "execution_count": 3,
   "id": "3bc24020",
   "metadata": {},
   "outputs": [
    {
     "name": "stdout",
     "output_type": "stream",
     "text": [
      "enter a number:python\n",
      "hello\n"
     ]
    }
   ],
   "source": [
    "name=input('enter a number:')\n",
    "if name=='python':\n",
    "    print('hello')"
   ]
  },
  {
   "cell_type": "code",
   "execution_count": 8,
   "id": "956f7cc4",
   "metadata": {},
   "outputs": [
    {
     "data": {
      "text/plain": [
       "True"
      ]
     },
     "execution_count": 8,
     "metadata": {},
     "output_type": "execute_result"
    }
   ],
   "source": [
    "name='python'\n",
    "name=='python'"
   ]
  },
  {
   "cell_type": "code",
   "execution_count": 6,
   "id": "f35b8cb5",
   "metadata": {},
   "outputs": [
    {
     "data": {
      "text/plain": [
       "False"
      ]
     },
     "execution_count": 6,
     "metadata": {},
     "output_type": "execute_result"
    }
   ],
   "source": [
    "'sai'=='python'"
   ]
  },
  {
   "cell_type": "code",
   "execution_count": 10,
   "id": "4ddf8e2b",
   "metadata": {},
   "outputs": [
    {
     "data": {
      "text/plain": [
       "True"
      ]
     },
     "execution_count": 10,
     "metadata": {},
     "output_type": "execute_result"
    }
   ],
   "source": [
    "'python'=='python'"
   ]
  },
  {
   "cell_type": "code",
   "execution_count": 15,
   "id": "0290c070",
   "metadata": {},
   "outputs": [
    {
     "name": "stdout",
     "output_type": "stream",
     "text": [
      "enter a name:python\n",
      "hello\n",
      "name\n"
     ]
    }
   ],
   "source": [
    "name=input('enter a name:')\n",
    "if name=='python':\n",
    "   print('hello')\n",
    "   print('name')"
   ]
  },
  {
   "cell_type": "code",
   "execution_count": 16,
   "id": "b363ae37",
   "metadata": {},
   "outputs": [
    {
     "name": "stdout",
     "output_type": "stream",
     "text": [
      "enter a name:p\n",
      "hello\n",
      "name\n"
     ]
    }
   ],
   "source": [
    "name=input('enter a name:')\n",
    "if name=='p':\n",
    "   print('hello')\n",
    "   print('name')"
   ]
  },
  {
   "cell_type": "code",
   "execution_count": 22,
   "id": "1e46b6f7",
   "metadata": {},
   "outputs": [
    {
     "name": "stdout",
     "output_type": "stream",
     "text": [
      "hello\n",
      "name\n"
     ]
    }
   ],
   "source": [
    "name='python'\n",
    "if name=='python':\n",
    "    print('hello')\n",
    "    print('name')"
   ]
  },
  {
   "cell_type": "code",
   "execution_count": 25,
   "id": "1dae4aaa",
   "metadata": {},
   "outputs": [
    {
     "name": "stdout",
     "output_type": "stream",
     "text": [
      "hello\n",
      "p\n"
     ]
    }
   ],
   "source": [
    "name='p'\n",
    "if name=='p':\n",
    "    print('hello')\n",
    "    print('p')"
   ]
  },
  {
   "cell_type": "code",
   "execution_count": 26,
   "id": "621973b7",
   "metadata": {},
   "outputs": [
    {
     "name": "stdout",
     "output_type": "stream",
     "text": [
      "8\n"
     ]
    }
   ],
   "source": [
    "name='python'\n",
    "if name=='python':\n",
    "    print(3+5)\n",
    "    \n",
    "else:\n",
    "    print('enter a correct one')"
   ]
  },
  {
   "cell_type": "code",
   "execution_count": 30,
   "id": "483da359",
   "metadata": {},
   "outputs": [
    {
     "name": "stdout",
     "output_type": "stream",
     "text": [
      "enter a correct one\n"
     ]
    }
   ],
   "source": [
    "name='p'\n",
    "if name=='python':\n",
    "    print(3+5)\n",
    "    \n",
    "else:\n",
    "    print('enter a correct one')"
   ]
  },
  {
   "cell_type": "code",
   "execution_count": 3,
   "id": "9a61d7d7",
   "metadata": {},
   "outputs": [
    {
     "name": "stdout",
     "output_type": "stream",
     "text": [
      "enter a name:sai\n",
      "hello sai\n",
      "how are you\n"
     ]
    }
   ],
   "source": [
    "name=input('enter a name:')\n",
    "if name=='sai':\n",
    "   print('hello',name)\n",
    "   print('how are you')\n",
    "\n",
    "else:\n",
    "    print('enter a corret one')\n",
    "    print('you are out')\n",
    "    print('hey')\n",
    "    print('bro')\n",
    "    "
   ]
  },
  {
   "cell_type": "code",
   "execution_count": 42,
   "id": "8e04f952",
   "metadata": {},
   "outputs": [
    {
     "name": "stdout",
     "output_type": "stream",
     "text": [
      "enter a number:p\n",
      "hello p\n",
      "how are you\n"
     ]
    }
   ],
   "source": [
    "name=input('enter a number:')\n",
    "if name=='p':\n",
    "   print('hello',name)\n",
    "   print('how are you')\n",
    "\n",
    "else:\n",
    "    print('enter a corret one')\n",
    "    print('you are out')\n",
    "    print('hey')\n",
    "    print('bro')"
   ]
  },
  {
   "cell_type": "code",
   "execution_count": 46,
   "id": "ae882d25",
   "metadata": {},
   "outputs": [
    {
     "name": "stdout",
     "output_type": "stream",
     "text": [
      "enter a number:8\n",
      "it is even number\n"
     ]
    }
   ],
   "source": [
    "n=eval(input('enter a number:'))\n",
    "if n%2==0:\n",
    "   print('it is even number')\n",
    "else:\n",
    "    print('it is odd number')"
   ]
  },
  {
   "cell_type": "markdown",
   "id": "05986e71",
   "metadata": {},
   "source": [
    "use try and except block"
   ]
  },
  {
   "cell_type": "code",
   "execution_count": 1,
   "id": "d07b7365",
   "metadata": {},
   "outputs": [
    {
     "name": "stdout",
     "output_type": "stream",
     "text": [
      "enter a number:7\n",
      "it is odd number\n"
     ]
    }
   ],
   "source": [
    "try:\n",
    "    n=eval(input('enter a number:'))\n",
    "    if n%2==0:\n",
    "       print('it is even number')\n",
    "    \n",
    "    else:\n",
    "       print('it is odd number')\n",
    "except exception as e:\n",
    "    print(e)"
   ]
  },
  {
   "cell_type": "code",
   "execution_count": 68,
   "id": "5378e882",
   "metadata": {},
   "outputs": [
    {
     "name": "stdout",
     "output_type": "stream",
     "text": [
      "enter a number:4\n",
      "it is even number\n"
     ]
    }
   ],
   "source": [
    "try:\n",
    "    n=eval(input('enter a number:'))\n",
    "    if n%2==0:\n",
    "       print('it is even number')\n",
    "    \n",
    "    else:\n",
    "       print('it is odd number')\n",
    "except exception as e:\n",
    "    print(e)"
   ]
  },
  {
   "cell_type": "code",
   "execution_count": 6,
   "id": "eebec6fb",
   "metadata": {},
   "outputs": [
    {
     "name": "stdout",
     "output_type": "stream",
     "text": [
      "it is even number\n"
     ]
    }
   ],
   "source": [
    "import random\n",
    "n=random.randint(1,100)\n",
    "if n%2==0:\n",
    "   print('it is even number')\n",
    "else:\n",
    "   print('it is odd number')\n",
    "    "
   ]
  },
  {
   "cell_type": "code",
   "execution_count": 61,
   "id": "61e275de",
   "metadata": {},
   "outputs": [
    {
     "name": "stdout",
     "output_type": "stream",
     "text": [
      "it is odd number\n"
     ]
    }
   ],
   "source": [
    "try:\n",
    "    import random\n",
    "    n=random.randint(5,600)\n",
    "    if n%2==0:\n",
    "     print('it is even number')\n",
    "    else:\n",
    "     print('it is odd number')\n",
    "\n",
    "except exception as e:\n",
    "    print(e)"
   ]
  },
  {
   "cell_type": "code",
   "execution_count": 7,
   "id": "bf0afc48",
   "metadata": {},
   "outputs": [
    {
     "name": "stdout",
     "output_type": "stream",
     "text": [
      "208 it is even number\n"
     ]
    }
   ],
   "source": [
    "try:\n",
    "    import random\n",
    "    n=random.randint(5,600)\n",
    "    if n%2==0:\n",
    "     print('{} it is even number'.format(n))\n",
    "    else:\n",
    "     print('{} it is odd number'.format(n))\n",
    "\n",
    "except exception as e:\n",
    "    print(e)"
   ]
  },
  {
   "cell_type": "code",
   "execution_count": 65,
   "id": "babf800e",
   "metadata": {},
   "outputs": [
    {
     "name": "stdout",
     "output_type": "stream",
     "text": [
      "8 it is even number\n"
     ]
    }
   ],
   "source": [
    "try:\n",
    "    import random\n",
    "    number=random.randint(-100,100)\n",
    "    if n%2==0:\n",
    "     print('{} it is even number'.format(n))\n",
    "    else:\n",
    "     print('{} it is odd number'.format(n))\n",
    "\n",
    "except exception as e:\n",
    "    print(e)"
   ]
  },
  {
   "cell_type": "code",
   "execution_count": 70,
   "id": "d5ab0a36",
   "metadata": {},
   "outputs": [
    {
     "name": "stdout",
     "output_type": "stream",
     "text": [
      "4 it is even number\n"
     ]
    }
   ],
   "source": [
    "import random\n",
    "number=random.randint(-100,100)\n",
    "if n%2==0:\n",
    "   print('{} it is even number'.format(n))\n",
    "else:\n",
    "   print('{} it is odd number'.format(n))\n"
   ]
  },
  {
   "cell_type": "code",
   "execution_count": 73,
   "id": "cd4c6c71",
   "metadata": {},
   "outputs": [
    {
     "name": "stdout",
     "output_type": "stream",
     "text": [
      "enter a number:9\n",
      "positive number\n"
     ]
    }
   ],
   "source": [
    "number=eval(input('enter a number:'))\n",
    "if number>0:\n",
    "   print('positive number')\n",
    "elif number<0:\n",
    "   print('negative number')\n",
    "else:\n",
    "   print('it is zero')"
   ]
  },
  {
   "cell_type": "code",
   "execution_count": 74,
   "id": "488db3e8",
   "metadata": {},
   "outputs": [
    {
     "name": "stdout",
     "output_type": "stream",
     "text": [
      "enter a number:-9\n",
      "negative number\n"
     ]
    }
   ],
   "source": [
    "number=eval(input('enter a number:'))\n",
    "if number>0:\n",
    "   print('positive number')\n",
    "elif number<0:\n",
    "   print('negative number')\n",
    "else:\n",
    "   print('it is zero')"
   ]
  },
  {
   "cell_type": "code",
   "execution_count": 75,
   "id": "40ee1b84",
   "metadata": {},
   "outputs": [
    {
     "name": "stdout",
     "output_type": "stream",
     "text": [
      "enter a number:6\n",
      "positive number\n"
     ]
    }
   ],
   "source": [
    "number=eval(input('enter a number:'))\n",
    "if number>0:\n",
    "   print('positive number')\n",
    "elif number<0:\n",
    "   print('negative number')\n",
    "else:\n",
    "   print('it is zero')"
   ]
  },
  {
   "cell_type": "code",
   "execution_count": 76,
   "id": "7cf3bbef",
   "metadata": {},
   "outputs": [
    {
     "name": "stdout",
     "output_type": "stream",
     "text": [
      "enter a number:-8\n",
      "negative number\n"
     ]
    }
   ],
   "source": [
    "number=eval(input('enter a number:'))\n",
    "if number>0:\n",
    "   print('positive number')\n",
    "elif number<0:\n",
    "   print('negative number')\n",
    "else:\n",
    "   print('it is zero')"
   ]
  },
  {
   "cell_type": "code",
   "execution_count": 81,
   "id": "0cded536",
   "metadata": {},
   "outputs": [
    {
     "name": "stdout",
     "output_type": "stream",
     "text": [
      "enter a number:1234\n",
      "enter only 1234\n"
     ]
    }
   ],
   "source": [
    "n=eval(input('enter a number:'))\n",
    "if n==1:\n",
    "   print('one')\n",
    "elif n==2:\n",
    "   print('two')\n",
    "elif n==3:\n",
    "   print('two')\n",
    "elif n==4:\n",
    "   print('four')\n",
    "    \n",
    "else:\n",
    "   print('enter only 1234')"
   ]
  },
  {
   "cell_type": "code",
   "execution_count": null,
   "id": "56b5dbbe",
   "metadata": {},
   "outputs": [],
   "source": []
  }
 ],
 "metadata": {
  "kernelspec": {
   "display_name": "Python 3 (ipykernel)",
   "language": "python",
   "name": "python3"
  },
  "language_info": {
   "codemirror_mode": {
    "name": "ipython",
    "version": 3
   },
   "file_extension": ".py",
   "mimetype": "text/x-python",
   "name": "python",
   "nbconvert_exporter": "python",
   "pygments_lexer": "ipython3",
   "version": "3.11.5"
  }
 },
 "nbformat": 4,
 "nbformat_minor": 5
}
