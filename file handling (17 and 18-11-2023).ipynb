{
 "cells": [
  {
   "cell_type": "markdown",
   "id": "beaf3622",
   "metadata": {},
   "source": [
    "- .txt            imp\n",
    "\n",
    "- .json           imp\n",
    "\n",
    "- .xml            encoded\n",
    "\n",
    "- .parkquet       encoded\n",
    "\n",
    "- .delta          encoded\n",
    "\n",
    "- .csv            comma seperated value(imp)\n",
    "\n",
    "- .xlsx           excel\n",
    "\n",
    "- .html           web page\n",
    "\n",
    "- .pdf \n",
    "\n",
    "- .doc"
   ]
  },
  {
   "cell_type": "markdown",
   "id": "147f43af",
   "metadata": {},
   "source": [
    ". file location (where is your file)\n",
    ". file name (what i sthe name)\n",
    ". extension (waht is the .)"
   ]
  },
  {
   "cell_type": "code",
   "execution_count": null,
   "id": "10e7c805",
   "metadata": {},
   "outputs": [],
   "source": [
    "# i want to read mbox-short file"
   ]
  },
  {
   "cell_type": "code",
   "execution_count": 1,
   "id": "e6fd81bb",
   "metadata": {},
   "outputs": [
    {
     "ename": "FileNotFoundError",
     "evalue": "[Errno 2] No such file or directory: 'C:\\\\Users\\\\hp\\\\Downloads\\\\mbox-shorts.txt'",
     "output_type": "error",
     "traceback": [
      "\u001b[1;31m---------------------------------------------------------------------------\u001b[0m",
      "\u001b[1;31mFileNotFoundError\u001b[0m                         Traceback (most recent call last)",
      "Cell \u001b[1;32mIn[1], line 8\u001b[0m\n\u001b[0;32m      1\u001b[0m \u001b[38;5;66;03m#file_location=C:\\Users\\hp\\Downloads\u001b[39;00m\n\u001b[0;32m      2\u001b[0m \n\u001b[0;32m      3\u001b[0m \u001b[38;5;66;03m#file_name=\"mbox-short\"\u001b[39;00m\n\u001b[0;32m      4\u001b[0m     \n\u001b[0;32m      5\u001b[0m \u001b[38;5;66;03m#extention=\".txt\"\u001b[39;00m\n\u001b[0;32m      7\u001b[0m file_path\u001b[38;5;241m=\u001b[39m\u001b[38;5;124m\"\u001b[39m\u001b[38;5;124mC:\u001b[39m\u001b[38;5;130;01m\\\\\u001b[39;00m\u001b[38;5;124mUsers\u001b[39m\u001b[38;5;130;01m\\\\\u001b[39;00m\u001b[38;5;124mhp\u001b[39m\u001b[38;5;130;01m\\\\\u001b[39;00m\u001b[38;5;124mDownloads\u001b[39m\u001b[38;5;130;01m\\\\\u001b[39;00m\u001b[38;5;124mmbox-shorts.txt\u001b[39m\u001b[38;5;124m\"\u001b[39m\n\u001b[1;32m----> 8\u001b[0m \u001b[38;5;28mopen\u001b[39m(file_path)\n",
      "File \u001b[1;32mC:\\ProgramData\\anaconda3\\Lib\\site-packages\\IPython\\core\\interactiveshell.py:286\u001b[0m, in \u001b[0;36m_modified_open\u001b[1;34m(file, *args, **kwargs)\u001b[0m\n\u001b[0;32m    279\u001b[0m \u001b[38;5;28;01mif\u001b[39;00m file \u001b[38;5;129;01min\u001b[39;00m {\u001b[38;5;241m0\u001b[39m, \u001b[38;5;241m1\u001b[39m, \u001b[38;5;241m2\u001b[39m}:\n\u001b[0;32m    280\u001b[0m     \u001b[38;5;28;01mraise\u001b[39;00m \u001b[38;5;167;01mValueError\u001b[39;00m(\n\u001b[0;32m    281\u001b[0m         \u001b[38;5;124mf\u001b[39m\u001b[38;5;124m\"\u001b[39m\u001b[38;5;124mIPython won\u001b[39m\u001b[38;5;124m'\u001b[39m\u001b[38;5;124mt let you open fd=\u001b[39m\u001b[38;5;132;01m{\u001b[39;00mfile\u001b[38;5;132;01m}\u001b[39;00m\u001b[38;5;124m by default \u001b[39m\u001b[38;5;124m\"\u001b[39m\n\u001b[0;32m    282\u001b[0m         \u001b[38;5;124m\"\u001b[39m\u001b[38;5;124mas it is likely to crash IPython. If you know what you are doing, \u001b[39m\u001b[38;5;124m\"\u001b[39m\n\u001b[0;32m    283\u001b[0m         \u001b[38;5;124m\"\u001b[39m\u001b[38;5;124myou can use builtins\u001b[39m\u001b[38;5;124m'\u001b[39m\u001b[38;5;124m open.\u001b[39m\u001b[38;5;124m\"\u001b[39m\n\u001b[0;32m    284\u001b[0m     )\n\u001b[1;32m--> 286\u001b[0m \u001b[38;5;28;01mreturn\u001b[39;00m io_open(file, \u001b[38;5;241m*\u001b[39margs, \u001b[38;5;241m*\u001b[39m\u001b[38;5;241m*\u001b[39mkwargs)\n",
      "\u001b[1;31mFileNotFoundError\u001b[0m: [Errno 2] No such file or directory: 'C:\\\\Users\\\\hp\\\\Downloads\\\\mbox-shorts.txt'"
     ]
    }
   ],
   "source": [
    "#file_location=C:\\Users\\hp\\Downloads\n",
    "\n",
    "#file_name=\"mbox-short\"\n",
    "    \n",
    "#extention=\".txt\"\n",
    "\n",
    "file_path=\"C:\\\\Users\\\\hp\\\\Downloads\\\\mbox-shorts.txt\"\n",
    "open(file_path)"
   ]
  },
  {
   "cell_type": "markdown",
   "id": "8be55a35",
   "metadata": {},
   "source": [
    "# 18-11-23 "
   ]
  },
  {
   "cell_type": "code",
   "execution_count": 1,
   "id": "0075b6bc",
   "metadata": {},
   "outputs": [
    {
     "data": {
      "text/plain": [
       "'C:\\\\Users\\\\hp\\\\Downloads\\\\mbox-shorts.txt'"
      ]
     },
     "execution_count": 1,
     "metadata": {},
     "output_type": "execute_result"
    }
   ],
   "source": [
    "file_path=\"C:\\\\Users\\\\hp\\\\Downloads\\\\mbox-shorts.txt\"\n",
    "file_path"
   ]
  },
  {
   "cell_type": "code",
   "execution_count": null,
   "id": "3ce5b64a",
   "metadata": {},
   "outputs": [],
   "source": [
    "file_path=\"C:\\\\Users\\\\hp\\\\Downloads\\\\mbox-shorts.txt\"\n",
    "#we need to open the file\n",
    "file=open(file_path)\n",
    "# default mode='r'\n",
    "# if you have spl characters in your file data\n",
    "# then you need "
   ]
  },
  {
   "cell_type": "code",
   "execution_count": null,
   "id": "e3434dc8",
   "metadata": {},
   "outputs": [],
   "source": [
    "# your file is loctated on other folder\n",
    "# your python file is located in a different foldser\n",
    "\n",
    "\n",
    "# you are reading with a python code \n",
    "# your in different place , you are calling some other guy\n",
    "# he is an other place\n",
    "# "
   ]
  },
  {
   "cell_type": "code",
   "execution_count": 2,
   "id": "61545d0b",
   "metadata": {},
   "outputs": [
    {
     "data": {
      "text/plain": [
       "'C:\\\\Users\\\\hp\\\\sai python'"
      ]
     },
     "execution_count": 2,
     "metadata": {},
     "output_type": "execute_result"
    }
   ],
   "source": [
    "# where is your python file located\n",
    "import  os\n",
    "os.getcwd()\n",
    "\n",
    "# copy the mbox_short in this current working directory\n",
    "# i copied\n",
    "# now python file and data file both are in same location"
   ]
  },
  {
   "cell_type": "code",
   "execution_count": null,
   "id": "7b5b17c6",
   "metadata": {},
   "outputs": [],
   "source": [
    "file_path=\"mbox_short.txt\"\n",
    "file=open(file_path)\n",
    "print(file.read())"
   ]
  },
  {
   "cell_type": "code",
   "execution_count": null,
   "id": "9e1592c5",
   "metadata": {},
   "outputs": [],
   "source": [
    "file_path=\"mbox_short.txt\"\n",
    "with open(file_path) as file:\n",
    "    print(file.read())"
   ]
  },
  {
   "cell_type": "code",
   "execution_count": null,
   "id": "c908936f",
   "metadata": {},
   "outputs": [],
   "source": []
  },
  {
   "cell_type": "code",
   "execution_count": null,
   "id": "54ca607b",
   "metadata": {},
   "outputs": [],
   "source": [
    "#          output try\n",
    "#===============method-1=================\n",
    "# python file \n",
    "# data file    both are in different location\n",
    "# file_path= location +name +.extension\n",
    "file_path=\"C:\\\\Users\\\\hp\\\\Downloads\\\\mbox-shorts.txt\"\n",
    "file=open(file_path)\n",
    "print(file.read())\n",
    "\n",
    "#====================method-2========================\n",
    "file_path=\"mbox_short.txt\"\n",
    "file=open(file_path)\n",
    "print(file.read())\n",
    "\n",
    "#==========================method-3========================\n",
    "\n",
    "file_path=\"mbox_short.txt\"\n",
    "with open(file_path) as file:\n",
    "    print(file.read())"
   ]
  },
  {
   "cell_type": "markdown",
   "id": "64a19d50",
   "metadata": {},
   "source": [
    "# print the lines by using for loop"
   ]
  },
  {
   "cell_type": "code",
   "execution_count": null,
   "id": "4af67743",
   "metadata": {},
   "outputs": [],
   "source": [
    "file_path=\"mbox_short.txt\"\n",
    "file=open(file_path)\n",
    "for line in file:               # output try\n",
    "    print(line)"
   ]
  },
  {
   "cell_type": "code",
   "execution_count": null,
   "id": "c4c293bc",
   "metadata": {},
   "outputs": [],
   "source": [
    "# find the no.of files"
   ]
  },
  {
   "cell_type": "code",
   "execution_count": null,
   "id": "9964669a",
   "metadata": {},
   "outputs": [],
   "source": []
  },
  {
   "cell_type": "markdown",
   "id": "8a502b4f",
   "metadata": {},
   "source": [
    "# enumerate"
   ]
  },
  {
   "cell_type": "markdown",
   "id": "696eaa49",
   "metadata": {},
   "source": [
    ". enumerate will provide the index of a line also\n",
    ". enumerate will give index as welll as line also"
   ]
  },
  {
   "cell_type": "code",
   "execution_count": null,
   "id": "a3e5f293",
   "metadata": {},
   "outputs": [],
   "source": [
    "file_path=\"mbox_short.txt\"\n",
    "file=open(file_path)\n",
    "\n",
    "for index,line in enumerate(file):\n",
    "    print(index,line)"
   ]
  },
  {
   "cell_type": "code",
   "execution_count": null,
   "id": "eb17f9eb",
   "metadata": {},
   "outputs": [],
   "source": []
  },
  {
   "cell_type": "code",
   "execution_count": null,
   "id": "abd8f8b2",
   "metadata": {},
   "outputs": [],
   "source": [
    "file_path=\"mbox_short.txt\"\n",
    "file=open(file_path)\n",
    "count=[index for index,_ in enumerate (file)]\n",
    "count\n",
    "\n",
    "# output=1910"
   ]
  },
  {
   "cell_type": "code",
   "execution_count": null,
   "id": "7c81b4ee",
   "metadata": {},
   "outputs": [],
   "source": [
    "# wap print first 10 lines\n",
    "file_path=\"mbox_short.txt\"\n",
    "file=open(file_path)\n",
    "for index,line in enumerate(file):\n",
    "    print(index,line)\n",
    "    if index==10:\n",
    "        break       # output\n",
    "\n",
    "        \n",
    "file_path=\"mbox_short.txt\"\n",
    "file=open(file_path)\n",
    "for index,line in enumerate(file):\n",
    "    if index<=10:\n",
    "        print(index,line)\n",
    "        \n",
    "        \n",
    "file_path=\"mbox_short.txt\"\n",
    "file=open(file_path)\n",
    "count=0\n",
    "for line in file:\n",
    "    print(line)\n",
    "    count=count+1\n",
    "    if count==10:\n",
    "        break"
   ]
  },
  {
   "cell_type": "code",
   "execution_count": null,
   "id": "31fb0dd9",
   "metadata": {},
   "outputs": [],
   "source": [
    "# q2) make all the lines are in aligned\n",
    "\n",
    "\n",
    "\n",
    "\n",
    "file_path=\"mbox_short.txt\"\n",
    "file=open(file_path)\n",
    "for index,line in enumerate(file):\n",
    "    print(line   )"
   ]
  },
  {
   "cell_type": "code",
   "execution_count": null,
   "id": "1ff6425c",
   "metadata": {},
   "outputs": [],
   "source": [
    "#q3) wap print the  lines which are start with from\n",
    "#   and save those lines in a list\n",
    "#   implement the logic using list comprehension\n",
    "\n",
    "\n"
   ]
  },
  {
   "cell_type": "code",
   "execution_count": null,
   "id": "e4962b6d",
   "metadata": {},
   "outputs": [],
   "source": []
  },
  {
   "cell_type": "code",
   "execution_count": null,
   "id": "74999fd1",
   "metadata": {},
   "outputs": [],
   "source": []
  },
  {
   "cell_type": "code",
   "execution_count": null,
   "id": "7f3afce1",
   "metadata": {},
   "outputs": [],
   "source": []
  }
 ],
 "metadata": {
  "kernelspec": {
   "display_name": "Python 3 (ipykernel)",
   "language": "python",
   "name": "python3"
  },
  "language_info": {
   "codemirror_mode": {
    "name": "ipython",
    "version": 3
   },
   "file_extension": ".py",
   "mimetype": "text/x-python",
   "name": "python",
   "nbconvert_exporter": "python",
   "pygments_lexer": "ipython3",
   "version": "3.11.5"
  }
 },
 "nbformat": 4,
 "nbformat_minor": 5
}
