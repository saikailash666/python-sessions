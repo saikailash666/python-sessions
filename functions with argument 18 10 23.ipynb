{
 "cells": [
  {
   "cell_type": "code",
   "execution_count": 1,
   "id": "1fe6b640",
   "metadata": {},
   "outputs": [],
   "source": [
    "def salary(base_salary,DA_amount):\n",
    "    print(base_salary,DA_amount)"
   ]
  },
  {
   "cell_type": "code",
   "execution_count": 2,
   "id": "b4742eac",
   "metadata": {},
   "outputs": [
    {
     "name": "stdout",
     "output_type": "stream",
     "text": [
      "5000 1000\n"
     ]
    }
   ],
   "source": [
    "salary(5000,1000)"
   ]
  },
  {
   "cell_type": "code",
   "execution_count": 9,
   "id": "354cccf1",
   "metadata": {},
   "outputs": [],
   "source": [
    "def add(a,b):\n",
    "    print(a)\n",
    "    print(b)\n",
    "    print(a+b)"
   ]
  },
  {
   "cell_type": "code",
   "execution_count": 10,
   "id": "9e66e024",
   "metadata": {},
   "outputs": [
    {
     "name": "stdout",
     "output_type": "stream",
     "text": [
      "100\n",
      "300\n",
      "400\n"
     ]
    }
   ],
   "source": [
    "add(100,300)"
   ]
  },
  {
   "cell_type": "markdown",
   "id": "bc487d7b",
   "metadata": {},
   "source": [
    "with arguments\n",
    "withought arguments\n",
    "default argument"
   ]
  },
  {
   "cell_type": "code",
   "execution_count": 13,
   "id": "aab962df",
   "metadata": {},
   "outputs": [],
   "source": [
    "def avg(n1,n2,n3=500):\n",
    "    avg=(n1,n2,n3)/3\n",
    "    print(\"avg is:\",avg)\n",
    "    "
   ]
  },
  {
   "cell_type": "code",
   "execution_count": 14,
   "id": "0678bcf3",
   "metadata": {},
   "outputs": [
    {
     "ename": "TypeError",
     "evalue": "unsupported operand type(s) for /: 'tuple' and 'int'",
     "output_type": "error",
     "traceback": [
      "\u001b[1;31m---------------------------------------------------------------------------\u001b[0m",
      "\u001b[1;31mTypeError\u001b[0m                                 Traceback (most recent call last)",
      "Cell \u001b[1;32mIn[14], line 1\u001b[0m\n\u001b[1;32m----> 1\u001b[0m avg(\u001b[38;5;241m10\u001b[39m,\u001b[38;5;241m20\u001b[39m)\n",
      "Cell \u001b[1;32mIn[13], line 2\u001b[0m, in \u001b[0;36mavg\u001b[1;34m(n1, n2, n3)\u001b[0m\n\u001b[0;32m      1\u001b[0m \u001b[38;5;28;01mdef\u001b[39;00m \u001b[38;5;21mavg\u001b[39m(n1,n2,n3\u001b[38;5;241m=\u001b[39m\u001b[38;5;241m500\u001b[39m):\n\u001b[1;32m----> 2\u001b[0m     avg\u001b[38;5;241m=\u001b[39m(n1,n2,n3)\u001b[38;5;241m/\u001b[39m\u001b[38;5;241m3\u001b[39m\n\u001b[0;32m      3\u001b[0m     \u001b[38;5;28mprint\u001b[39m(\u001b[38;5;124m\"\u001b[39m\u001b[38;5;124mavg is:\u001b[39m\u001b[38;5;124m\"\u001b[39m,avg)\n",
      "\u001b[1;31mTypeError\u001b[0m: unsupported operand type(s) for /: 'tuple' and 'int'"
     ]
    }
   ],
   "source": [
    "avg(10,20)"
   ]
  },
  {
   "cell_type": "code",
   "execution_count": 17,
   "id": "4db58d63",
   "metadata": {},
   "outputs": [],
   "source": [
    "#1.verification\n",
    "\n",
    "def avg(n1,n2,n3=500):\n",
    "    print(\"n1\",n1)\n",
    "    print(\"n2\",n2)\n",
    "    print(\"n3\",n3)\n",
    "    avg=(n1+n2+n3)/3\n",
    "    print(\"avg is:\",avg)"
   ]
  },
  {
   "cell_type": "code",
   "execution_count": 18,
   "id": "6526ddc5",
   "metadata": {},
   "outputs": [
    {
     "name": "stdout",
     "output_type": "stream",
     "text": [
      "n1 10\n",
      "n2 20\n",
      "n3 30\n",
      "avg is: 20.0\n"
     ]
    }
   ],
   "source": [
    "avg(10,20,30)"
   ]
  },
  {
   "cell_type": "code",
   "execution_count": 19,
   "id": "2e30090e",
   "metadata": {},
   "outputs": [],
   "source": [
    "def avg(n1,n2,n3=500):\n",
    "    n3=1000\n",
    "    print(\"n1\",n1)\n",
    "    print(\"n2\",n2)\n",
    "    print(\"n3\",n3)\n",
    "    avg=(n1+n2+n3)/3\n",
    "    print(\"avg is:\",avg)"
   ]
  },
  {
   "cell_type": "code",
   "execution_count": 20,
   "id": "510928c8",
   "metadata": {},
   "outputs": [
    {
     "name": "stdout",
     "output_type": "stream",
     "text": [
      "n1 10\n",
      "n2 20\n",
      "n3 1000\n",
      "avg is: 343.3333333333333\n"
     ]
    }
   ],
   "source": [
    "avg(10,20)"
   ]
  },
  {
   "cell_type": "code",
   "execution_count": 22,
   "id": "7da6e601",
   "metadata": {},
   "outputs": [
    {
     "ename": "SyntaxError",
     "evalue": "non-default argument follows default argument (2382592451.py, line 1)",
     "output_type": "error",
     "traceback": [
      "\u001b[1;36m  Cell \u001b[1;32mIn[22], line 1\u001b[1;36m\u001b[0m\n\u001b[1;33m    def avg(n1,n2=1000,n3):\u001b[0m\n\u001b[1;37m                       ^\u001b[0m\n\u001b[1;31mSyntaxError\u001b[0m\u001b[1;31m:\u001b[0m non-default argument follows default argument\n"
     ]
    }
   ],
   "source": [
    "def avg(n1,n2=1000,n3):\n",
    "    n3=1000\n",
    "    print(\"n1\",n1)\n",
    "    print(\"n2\",n2)\n",
    "    print(\"n3\",n3)\n",
    "    avg=(n1+n2+n3)/3\n",
    "    print(\"avg is:\",avg)"
   ]
  },
  {
   "cell_type": "code",
   "execution_count": 23,
   "id": "4a94ca6e",
   "metadata": {},
   "outputs": [],
   "source": [
    "def avg(n1,n3,n2=500):\n",
    "    n3=1000\n",
    "    print(\"n1\",n1)\n",
    "    print(\"n2\",n2)\n",
    "    print(\"n3\",n3)\n",
    "    avg=(n1+n2+n3)/3\n",
    "    print(\"avg is:\",avg)"
   ]
  },
  {
   "cell_type": "code",
   "execution_count": 24,
   "id": "af22d4b8",
   "metadata": {},
   "outputs": [
    {
     "name": "stdout",
     "output_type": "stream",
     "text": [
      "n1 10\n",
      "n2 500\n",
      "n3 1000\n",
      "avg is: 503.3333333333333\n"
     ]
    }
   ],
   "source": [
    "avg(10,20)"
   ]
  },
  {
   "cell_type": "code",
   "execution_count": null,
   "id": "be0ddbb5",
   "metadata": {},
   "outputs": [],
   "source": [
    "## fefault argument=we cannot change"
   ]
  },
  {
   "cell_type": "code",
   "execution_count": 26,
   "id": "5717c352",
   "metadata": {},
   "outputs": [],
   "source": [
    "def avg(n1,n2,n3=500):\n",
    "    avg=(n1+n2+n3)/3\n",
    "    print(\"avg is:\",avg)"
   ]
  },
  {
   "cell_type": "code",
   "execution_count": 27,
   "id": "dc3759b5",
   "metadata": {},
   "outputs": [
    {
     "name": "stdout",
     "output_type": "stream",
     "text": [
      "avg is: 176.66666666666666\n"
     ]
    }
   ],
   "source": [
    "avg(10,20)"
   ]
  },
  {
   "cell_type": "code",
   "execution_count": null,
   "id": "9c5f83b9",
   "metadata": {},
   "outputs": [],
   "source": []
  },
  {
   "cell_type": "code",
   "execution_count": null,
   "id": "d47c183d",
   "metadata": {},
   "outputs": [],
   "source": []
  },
  {
   "cell_type": "code",
   "execution_count": null,
   "id": "d412328c",
   "metadata": {},
   "outputs": [],
   "source": []
  },
  {
   "cell_type": "code",
   "execution_count": null,
   "id": "adecfada",
   "metadata": {},
   "outputs": [],
   "source": []
  },
  {
   "cell_type": "code",
   "execution_count": null,
   "id": "f6cbcb00",
   "metadata": {},
   "outputs": [],
   "source": []
  },
  {
   "cell_type": "code",
   "execution_count": null,
   "id": "f7f6f262",
   "metadata": {},
   "outputs": [],
   "source": []
  }
 ],
 "metadata": {
  "kernelspec": {
   "display_name": "Python 3 (ipykernel)",
   "language": "python",
   "name": "python3"
  },
  "language_info": {
   "codemirror_mode": {
    "name": "ipython",
    "version": 3
   },
   "file_extension": ".py",
   "mimetype": "text/x-python",
   "name": "python",
   "nbconvert_exporter": "python",
   "pygments_lexer": "ipython3",
   "version": "3.11.5"
  }
 },
 "nbformat": 4,
 "nbformat_minor": 5
}
