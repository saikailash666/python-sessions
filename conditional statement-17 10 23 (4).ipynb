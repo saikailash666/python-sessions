{
 "cells": [
  {
   "cell_type": "code",
   "execution_count": 1,
   "id": "70659227",
   "metadata": {},
   "outputs": [
    {
     "name": "stdout",
     "output_type": "stream",
     "text": [
      "enter the distance in km6\n",
      "the distance morethan 6km is fare is 100rs\n"
     ]
    }
   ],
   "source": [
    "#WAP ask the user enter distance\n",
    "#if the distance between 0 and 2km print the fare is 20 rs\n",
    "#if the distance between 2km and 4km print the fare s 40rs\n",
    "#if the distance between 4km to 6km print the fare is 6rs\n",
    "#if the distance morethan 6km print the fare is 100rs\n",
    "\n",
    "try:\n",
    "    dist=eval(input(\"enter the distance in km\"))\n",
    "    if dist>0 and dist<2:\n",
    "        print(\"the distance between 0 and 2km is fare is 20rs\")\n",
    "    elif dist>2 and dist<4:\n",
    "        print(\"the distance between 2 to 4km is fare is 40rs\")\n",
    "    elif dist<4 and dist<6:\n",
    "        print(\"the distance between 4 to 6km is fare is 60rs\")\n",
    "    else:\n",
    "        print(\"the distance morethan 6km is fare is 100rs\")\n",
    "        \n",
    "except exception as e:\n",
    "    print(e)"
   ]
  },
  {
   "cell_type": "markdown",
   "id": "7750fedb",
   "metadata": {},
   "source": [
    "x     y     x and y       x or y\n",
    "0     0        0             0\n",
    "0     1        0             1\n",
    "1     0        0             1\n",
    "1     1        1             1\n",
    "\n",
    "dist>0  and  dist<2\n",
    "true    and   true====true \n",
    "false   and   true===false\n",
    "false   and   false==false"
   ]
  },
  {
   "cell_type": "code",
   "execution_count": 2,
   "id": "0e4a978a",
   "metadata": {},
   "outputs": [
    {
     "name": "stdout",
     "output_type": "stream",
     "text": [
      "enter the distancein km:4\n",
      "the fare is between 2 to 4km is 40rs\n"
     ]
    }
   ],
   "source": [
    "dist=eval(input(\"enter the distancein km:\"))\n",
    "if dist>6:\n",
    "    print(\"100\")\n",
    "elif dist>4:\n",
    "    print(\"the fare is between 4 to 6km is 60rs\")\n",
    "elif dist>2:\n",
    "    print(\"the fare is between 2 to 4km is 40rs\")\n",
    "else:\n",
    "    print(\"the fare is lessthan 2km is 20rs\")"
   ]
  },
  {
   "cell_type": "code",
   "execution_count": 3,
   "id": "4a153114",
   "metadata": {},
   "outputs": [
    {
     "name": "stdout",
     "output_type": "stream",
     "text": [
      "enter the distancein km:7\n",
      "100\n"
     ]
    }
   ],
   "source": [
    "try:\n",
    "    dist=eval(input(\"enter the distancein km:\"))\n",
    "    if dist>6:\n",
    "        print(\"100\")\n",
    "    elif dist>4:\n",
    "        print(\"the fare is between 4 to 6km is 60rs\")\n",
    "    elif dist>2:\n",
    "        print(\"the fare is between 2 to 4km is 40rs\")\n",
    "    else:\n",
    "        print(\"the fare is lessthan 2km is 20rs\")\n",
    "        \n",
    "except exception as e:\n",
    "    print(e)"
   ]
  },
  {
   "cell_type": "code",
   "execution_count": 4,
   "id": "9b1d11c1",
   "metadata": {},
   "outputs": [
    {
     "name": "stdout",
     "output_type": "stream",
     "text": [
      "enter the percentage:90\n",
      "grade is A\n"
     ]
    }
   ],
   "source": [
    "#wap ask the user enter percentage \n",
    "#if percentage >90 print grade A\n",
    "#if percentage between 70 and 90 print grade B\n",
    "#if percentage between 50 and 70 print grade c\n",
    "#if percentage lessthen 50 print grade D\n",
    "\n",
    "per=eval(input(\"enter the percentage:\"))\n",
    "if per>=90:\n",
    "    print(\"grade is A\")\n",
    "elif per>=70:\n",
    "    print(\"grade is B\")\n",
    "elif per>=50:\n",
    "    print(\"garde is c\")\n",
    "else:\n",
    "    print(\"the percentage lessthan 50 is grade D\")"
   ]
  },
  {
   "cell_type": "code",
   "execution_count": 5,
   "id": "2b9db40b",
   "metadata": {},
   "outputs": [
    {
     "ename": "SyntaxError",
     "evalue": "invalid syntax (1081919443.py, line 17)",
     "output_type": "error",
     "traceback": [
      "\u001b[1;36m  Cell \u001b[1;32mIn[5], line 17\u001b[1;36m\u001b[0m\n\u001b[1;33m    else:\u001b[0m\n\u001b[1;37m    ^\u001b[0m\n\u001b[1;31mSyntaxError\u001b[0m\u001b[1;31m:\u001b[0m invalid syntax\n"
     ]
    }
   ],
   "source": [
    "#if-elif-else\n",
    "#wap ask the user enter a number\n",
    "#check the first condition if number>=0\n",
    "#if that is truech check one more condition \n",
    "#if number==0 then print it isa zero number\n",
    "#otherwise it is positive number\n",
    "#otherwise it is negative nnumber\n",
    "\n",
    "#method-1:\n",
    "try:\n",
    "    num=eval(input(\"enter a number:\"))\n",
    "    if num>=0:\n",
    "        if num==0:\n",
    "            print(\"it is zero number\")\n",
    "        else:\n",
    "            print(\"it is positive number\")\n",
    "        else:\n",
    "            print(\"it is negative number\")\n",
    "            \n",
    "except exception as e:\n",
    "    print(e)"
   ]
  },
  {
   "cell_type": "code",
   "execution_count": 6,
   "id": "93938536",
   "metadata": {},
   "outputs": [
    {
     "name": "stdout",
     "output_type": "stream",
     "text": [
      "enter a number:6\n",
      "it is positive number\n"
     ]
    }
   ],
   "source": [
    "#method-2\n",
    "num=eval(input(\"enter a number:\"))\n",
    "if num>0:\n",
    "    print(\"it is positive number\")\n",
    "elif num==0:\n",
    "    print(\"it is negative number\")"
   ]
  },
  {
   "cell_type": "code",
   "execution_count": 7,
   "id": "09dd927b",
   "metadata": {},
   "outputs": [
    {
     "name": "stdout",
     "output_type": "stream",
     "text": [
      "enter a number5\n",
      "out of range\n"
     ]
    }
   ],
   "source": [
    "#wap ask the user enter a number greater than or equal to zero\n",
    "#check if it is between 1 and 99;\n",
    "    #print the number between 1 and 99,\n",
    "#check if it is zero ;print zero\n",
    "#check if it is morethan 99;\n",
    "    #print the number is out of range\n",
    "    \n",
    "number=eval(input(\"enter a number\"))\n",
    "if number<99:\n",
    "    if number==0:\n",
    "        print(\"zero\")\n",
    "    elif num<0:\n",
    "        print(\"number between 1 to 99\")\n",
    "    else:\n",
    "        print(\"out of range\")"
   ]
  },
  {
   "cell_type": "code",
   "execution_count": null,
   "id": "e6bf2308",
   "metadata": {},
   "outputs": [],
   "source": [
    "number=eval(input(\"enter a number\"))\n",
    "if number<99:\n",
    "    if number==0:\n",
    "        print(\"zero\")                                 #no answer\n",
    "    else:\n",
    "        print(\"number between 1 to 99\")\n",
    "    else:\n",
    "        print(\"out of range\")"
   ]
  },
  {
   "cell_type": "code",
   "execution_count": 8,
   "id": "b31b85cd",
   "metadata": {},
   "outputs": [
    {
     "name": "stdout",
     "output_type": "stream",
     "text": [
      "enter a number67\n",
      "number between 1 to 99\n"
     ]
    }
   ],
   "source": [
    "number=eval(input(\"enter a number\"))\n",
    "if number>=0:\n",
    "    if number==0:\n",
    "        print(\"zero\")\n",
    "    elif num<99:\n",
    "        print(\"number between 1 to 99\")\n",
    "    else:\n",
    "        print(\"out of range\")"
   ]
  },
  {
   "cell_type": "code",
   "execution_count": 16,
   "id": "781f8d2e",
   "metadata": {},
   "outputs": [
    {
     "ename": "SyntaxError",
     "evalue": "invalid syntax (3005734297.py, line 24)",
     "output_type": "error",
     "traceback": [
      "\u001b[1;36m  Cell \u001b[1;32mIn[16], line 24\u001b[1;36m\u001b[0m\n\u001b[1;33m    else:\u001b[0m\n\u001b[1;37m    ^\u001b[0m\n\u001b[1;31mSyntaxError\u001b[0m\u001b[1;31m:\u001b[0m invalid syntax\n"
     ]
    }
   ],
   "source": [
    "#wap ask the user enter a gender\n",
    "#if gender=='male'\n",
    "#  ask the user enter the age\n",
    "#   if age>25; print(he is a man)\n",
    "#  otherwise ; print(he is a boy)\n",
    "\n",
    "\n",
    "#otherwise\n",
    "#   ask the user enter the age\n",
    "#   if age>25;print (she is a woman)\n",
    "#   otherwise; print(she is a girl)\n",
    "\n",
    "gender=input(\"enter a gender\")\n",
    "if gender==\"male\":\n",
    "    agem=eval(input(\"enter the age\"))\n",
    "    if age>25:\n",
    "        print(\"he is a man\")\n",
    "    else:\n",
    "        print(\"he is a boy\")\n",
    "else:\n",
    "    agef=eval(input(\"enter the age\"))               #### NOT WORK ####\n",
    "    if age>25:\n",
    "        print(\"she is a woman\")\n",
    "        else:\n",
    "            print(\"she is a girl\")"
   ]
  },
  {
   "cell_type": "code",
   "execution_count": null,
   "id": "e1209467",
   "metadata": {},
   "outputs": [],
   "source": []
  },
  {
   "cell_type": "code",
   "execution_count": 11,
   "id": "ed98eafe",
   "metadata": {},
   "outputs": [
    {
     "name": "stdout",
     "output_type": "stream",
     "text": [
      "enter a gender:male\n",
      "enter the age:24\n",
      "he is a boy\n"
     ]
    }
   ],
   "source": [
    "gender=input('enter a gender:')\n",
    "if gender=='male':\n",
    "    agem=eval(input('enter the age:'))\n",
    "    if agem>25:\n",
    "        print('he is a man')\n",
    "    else:\n",
    "        print('he is a boy')\n",
    "else:\n",
    "    agef=eval(input('enter the age'))\n",
    "    if agem>25:\n",
    "        print('she is a woman')\n",
    "    else:\n",
    "        print('she is a girl')"
   ]
  },
  {
   "cell_type": "code",
   "execution_count": 17,
   "id": "abcb9014",
   "metadata": {},
   "outputs": [
    {
     "name": "stdout",
     "output_type": "stream",
     "text": [
      "enter a gender:female\n",
      "enter the age76\n",
      "she is a woman\n"
     ]
    }
   ],
   "source": [
    "gender=input('enter a gender:')\n",
    "if gender=='male':\n",
    "    agem=eval(input('enter the age:'))\n",
    "    if agem>25:\n",
    "        print('he is a man')\n",
    "    else:\n",
    "        print('he is a boy')\n",
    "else:\n",
    "    agef=eval(input('enter the age'))\n",
    "    if agem>25:\n",
    "        print('she is a woman')\n",
    "    else:\n",
    "        print('she is a girl')"
   ]
  },
  {
   "cell_type": "code",
   "execution_count": null,
   "id": "c17ed038",
   "metadata": {},
   "outputs": [],
   "source": []
  }
 ],
 "metadata": {
  "kernelspec": {
   "display_name": "Python 3 (ipykernel)",
   "language": "python",
   "name": "python3"
  },
  "language_info": {
   "codemirror_mode": {
    "name": "ipython",
    "version": 3
   },
   "file_extension": ".py",
   "mimetype": "text/x-python",
   "name": "python",
   "nbconvert_exporter": "python",
   "pygments_lexer": "ipython3",
   "version": "3.11.5"
  }
 },
 "nbformat": 4,
 "nbformat_minor": 5
}
